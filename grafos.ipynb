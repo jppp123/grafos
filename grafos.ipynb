{
  "cells": [
    {
      "cell_type": "code",
      "execution_count": 8,
      "metadata": {
        "trusted": true
      },
      "outputs": [
        {
          "name": "stdout",
          "output_type": "stream",
          "text": [
            "distancias a partir do inicio: [0, 10, 25, 20, 5, 30]\n"
          ]
        }
      ],
      "source": [
        "import sys\n",
        "\n",
        "def dijkstra(graf, start):\n",
        "    tam = len(graf)\n",
        "    dist = [sys.maxsize] * tam\n",
        "    dist[start] = 0\n",
        "    visit = [False] * tam\n",
        "    \n",
        "    for _ in range(tam):\n",
        "        #valor \"infinito\" do python\n",
        "        min_dist = sys.maxsize\n",
        "        min_index = -1\n",
        "        #encontra o vertice com a menor distancia que ainda nao foi visitado\n",
        "        for i in range(tam):\n",
        "            if not visit[i] and dist[i] < min_dist:\n",
        "                min_dist = dist[i]\n",
        "                min_index = i\n",
        "        \n",
        "        #marca o vertice como visitado\n",
        "        visit[min_index] = True\n",
        "        \n",
        "        #atualiza as distancias dos vizinhos\n",
        "        for i in range(tam):\n",
        "            if graf[min_index][i] > 0 and not visit[i]:\n",
        "                new_dist = dist[min_index] + graf[min_index][i]\n",
        "                if new_dist < dist[i]:\n",
        "                    dist[i] = new_dist\n",
        "    \n",
        "    return dist\n",
        "\n",
        "graf = [\n",
        "    [0, 10, 0, 0, 5, 0],  \n",
        "    [0, 0, 15, 0, 0, 0],  \n",
        "    [0, 0, 0, 10, 0, 5],  \n",
        "    [0, 0, 0, 0, 0, 10],  \n",
        "    [0, 5, 0, 15, 0, 0],  \n",
        "    [0, 0, 0, 0, 10, 0]\n",
        "]\n",
        "\n",
        "ini = 0\n",
        "distan = dijkstra(graf, ini)\n",
        "\n",
        "#aqui é computado as distâncias do vértice de entrada em relação aos outros vértices\n",
        "print(f\"distancias a partir do inicio: {distan}\")"
      ]
    },
    {
      "cell_type": "code",
      "execution_count": 9,
      "metadata": {
        "trusted": true
      },
      "outputs": [
        {
          "name": "stdout",
          "output_type": "stream",
          "text": [
            "fluxo maximo: 21\n"
          ]
        }
      ],
      "source": [
        "import sys\n",
        "#busca em profundidade\n",
        "def bep(graf, src, snk, near):\n",
        "    visit = [False] * len(graf)\n",
        "    stack = [src]\n",
        "    \n",
        "    while stack:\n",
        "        aux = stack.pop()\n",
        "        #itera no grafo fornecido, se na o tiver no vetor de visitados, vai iterando até encontrar o nó sink\n",
        "        for i, capacity in enumerate(graf[aux]):\n",
        "            if not visit[i] and capacity > 0:\n",
        "                near[i] = aux\n",
        "                if i == snk:\n",
        "                    return True\n",
        "                stack.append(i)\n",
        "                visit[i] = True\n",
        "    \n",
        "    return False\n",
        "\n",
        "def fordfksn(graf, src, snk):\n",
        "    near = [-1] * len(graf)\n",
        "    max_flow = 0\n",
        "\n",
        "    #enquanto houver um caminho aumentante\n",
        "    while bep(graf, src, snk, near):\n",
        "        #valor \"infinito\" do python\n",
        "        flow = sys.maxsize\n",
        "        aux1 = snk\n",
        "        \n",
        "        #encontra a capacidade minima ao longo do caminho\n",
        "        while aux1 != src:\n",
        "            flow = min(flow, graf[near[aux1]][aux1])\n",
        "            aux1 = near[aux1]\n",
        "        \n",
        "        #atualiza as capacidades das arestas\n",
        "        aux2 = snk\n",
        "        while aux2 != src:\n",
        "            u = near[aux2]\n",
        "            graf[u][aux2] -= flow\n",
        "            graf[aux2][u] += flow\n",
        "            aux2 = near[aux2]\n",
        "        \n",
        "        max_flow += flow\n",
        "\n",
        "    return max_flow\n",
        "\n",
        "graf = [\n",
        "    [0, 16, 13, 0, 0, 0],\n",
        "    [0, 0, 10, 10, 0, 0],\n",
        "    [0, 4, 0, 0, 14, 0],\n",
        "    [0, 0, 10, 0, 0, 20],\n",
        "    [0, 0, 0, 7, 0, 4],\n",
        "    [0, 0, 0, 0, 0, 0]\n",
        "]\n",
        "\n",
        "src = 0\n",
        "snk = 5\n",
        "print(\"fluxo maximo:\", fordfksn(graf, src, snk))\n"
      ]
    }
  ],
  "metadata": {
    "kernelspec": {
      "display_name": "Python (Pyodide)",
      "language": "python",
      "name": "python"
    },
    "language_info": {
      "codemirror_mode": {
        "name": "python",
        "version": 3
      },
      "file_extension": ".py",
      "mimetype": "text/x-python",
      "name": "python",
      "nbconvert_exporter": "python",
      "pygments_lexer": "ipython3",
      "version": "3.8"
    }
  },
  "nbformat": 4,
  "nbformat_minor": 4
}
